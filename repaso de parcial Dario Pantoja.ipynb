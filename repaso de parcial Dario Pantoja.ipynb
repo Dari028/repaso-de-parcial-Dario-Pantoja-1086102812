{
 "cells": [
  {
   "cell_type": "code",
   "execution_count": 3,
   "metadata": {},
   "outputs": [],
   "source": [
    "#librerias \n",
    "import numpy as np\n",
    "import pandas as pd\n",
    "import scipy.io\n",
    "import csv\n",
    "import matplotlib.pyplot as plt\n"
   ]
  },
  {
   "cell_type": "markdown",
   "metadata": {},
   "source": [
    "1. Crear una matriz de Numpy aleatoria de 4 dimensiones y un size de 1200000"
   ]
  },
  {
   "cell_type": "code",
   "execution_count": 4,
   "metadata": {},
   "outputs": [
    {
     "name": "stdout",
     "output_type": "stream",
     "text": [
      "Shape: (2, 2, 2, 150000)\n",
      "Size: 1200000\n"
     ]
    }
   ],
   "source": [
    "arr = np.random.rand(2, 2, 2, 150000) \n",
    "\n",
    "\n",
    "print(\"Shape:\", arr.shape)\n",
    "print(\"Size:\", np.prod(arr.shape))"
   ]
  },
  {
   "cell_type": "markdown",
   "metadata": {},
   "source": [
    "Crea una copia de la matriz creada en el ítem anterior (usar método copy) de solo 3\n",
    "dimensiones (“Cortando una de las dimensiones”)"
   ]
  },
  {
   "cell_type": "code",
   "execution_count": 5,
   "metadata": {},
   "outputs": [
    {
     "name": "stdout",
     "output_type": "stream",
     "text": [
      "shape : (2, 2, 2)\n",
      "Size: 8\n"
     ]
    }
   ],
   "source": [
    "arr_copy = np.copy(arr) #cortando la cuerta demencion\n",
    "matriz_3d = arr_copy[:, :, :, 0]\n",
    "print(\"shape :\", matriz_3d.shape)\n",
    "print(\"Size:\", np.prod(matriz_3d.shape))"
   ]
  },
  {
   "cell_type": "markdown",
   "metadata": {},
   "source": [
    "De la matriz 3D, muestra todos los atributos propios de dicha matriz , dimensión, tamaño,\n",
    "etc.."
   ]
  },
  {
   "cell_type": "code",
   "execution_count": 6,
   "metadata": {},
   "outputs": [
    {
     "name": "stdout",
     "output_type": "stream",
     "text": [
      "\n",
      "Matriz reducida de 3 dimensiones:\n",
      "\n",
      "Atributos de la matriz 3D:\n",
      "Shape: (2, 2, 2)\n",
      "Tamaño: 8\n",
      "Tipo de dato: float64\n",
      "Tamaño de elemento: 8\n",
      "Bytes usados: 64\n"
     ]
    }
   ],
   "source": [
    "#punto 3\n",
    "print(\"\\nMatriz reducida de 3 dimensiones:\")\n",
    "print(\"\\nAtributos de la matriz 3D:\")\n",
    "print(\"Shape:\", matriz_3d.shape)\n",
    "print(\"Tamaño:\", np.prod(matriz_3d.shape))\n",
    "print(\"Tipo de dato:\", matriz_3d.dtype)\n",
    "print(\"Tamaño de elemento:\", matriz_3d.itemsize)\n",
    "print(\"Bytes usados:\", matriz_3d.nbytes)"
   ]
  },
  {
   "cell_type": "markdown",
   "metadata": {},
   "source": [
    "Modificar su forma y pasarla a 2D"
   ]
  },
  {
   "cell_type": "code",
   "execution_count": 7,
   "metadata": {},
   "outputs": [
    {
     "name": "stdout",
     "output_type": "stream",
     "text": [
      "shape nuevo: (2, 4)\n",
      "size nuevo : 8\n"
     ]
    }
   ],
   "source": [
    "arr_2d = matriz_3d.reshape(2, -1)\n",
    "print(\"shape nuevo:\", arr_2d.shape)\n",
    "print(\"size nuevo :\", np.prod(arr_2d.shape))"
   ]
  },
  {
   "cell_type": "markdown",
   "metadata": {},
   "source": [
    "Crea una función que reciba la matriz anterior y la pase a un objeto tipo dataframe de Pandas"
   ]
  },
  {
   "cell_type": "code",
   "execution_count": 8,
   "metadata": {},
   "outputs": [
    {
     "name": "stdout",
     "output_type": "stream",
     "text": [
      "          0         1         2         3\n",
      "0  0.465653  0.229585  0.049531  0.868786\n",
      "1  0.364650  0.307666  0.856760  0.973246\n"
     ]
    }
   ],
   "source": [
    "def matriz_a_dataframe(matriz):\n",
    "    df = pd.DataFrame(matriz)\n",
    "    return df\n",
    "dfp=matriz_a_dataframe(arr_2d)\n",
    "print(dfp)\n"
   ]
  },
  {
   "cell_type": "markdown",
   "metadata": {},
   "source": [
    "Crear una función que permita cargar un archivo .mat y .csv \n",
    "usando la libreria scipy.io usando el metodo loadmat \n"
   ]
  },
  {
   "cell_type": "code",
   "execution_count": 14,
   "metadata": {},
   "outputs": [],
   "source": [
    "def leer(ruta,t):\n",
    "    if t==2:\n",
    "        return scipy.io.loadmat(ruta)\n",
    "    else:\n",
    "        return pd.read_csv(ruta)\n",
    "    \n",
    "\n"
   ]
  },
  {
   "cell_type": "markdown",
   "metadata": {},
   "source": [
    "Crear funciones de suma, resta, multiplicación, división, logaritmo ,promedio, desviación estándar NOTA: Estas funciones deben permitir hacer estos procesos a lo largo de un eje (usando Numpy) "
   ]
  },
  {
   "cell_type": "code",
   "execution_count": null,
   "metadata": {},
   "outputs": [],
   "source": [
    "def suma_largo_eje(arr, eje=0):\n",
    "    return np.sum(arr, axis=eje)\n",
    "def resta_largo_eje(arr, eje=0):\n",
    "    return np.diff(arr, axis=eje)\n",
    "def multiplicacion_largo_eje(arr, eje=0):\n",
    "    return np.multiply.reduce(arr, axis=eje)\n",
    "def division_largo_eje(arr, eje=0):\n",
    "    return np.divide.reduce(arr, axis=eje)\n",
    "def log_largo_eje(arr, eje=0):\n",
    "    return np.log(arr, axis=eje)\n",
    "def prom_largo_eje(arr, eje=0):\n",
    "    return np.mean(arr, axis=eje)\n",
    "def desv_std_largo_eje(arr, eje=0):\n",
    "    return np.std(arr, axis=eje)\n",
    "\n"
   ]
  },
  {
   "cell_type": "markdown",
   "metadata": {},
   "source": [
    "Buscar en Kaggle un archivo .csv relacionadas con alguna patología, descargar y hacer\n",
    "funciones como las propuestas en el ítem anterior, pero implementándolas usando Pandas\n",
    "y que permitan tambien elegir columnas."
   ]
  },
  {
   "cell_type": "code",
   "execution_count": 18,
   "metadata": {},
   "outputs": [
    {
     "name": "stdout",
     "output_type": "stream",
     "text": [
      "                 imagen                                          patologia  \\\n",
      "0   RayosX00013_005.png  Emphysema|Infiltration|Pleural_Thickening|Pneu...   \n",
      "1   RayosX00013_026.png                             Cardiomegaly|Emphysema   \n",
      "2   RayosX00017_001.png                                         No Finding   \n",
      "3   RayosX00030_001.png                                        Atelectasis   \n",
      "4   RayosX00032_001.png                        Cardiomegaly|Edema|Effusion   \n",
      "5   RayosX00040_003.png                                 Consolidation|Mass   \n",
      "6   RayosX00042_002.png                                         No Finding   \n",
      "7   RayosX00057_001.png                                         No Finding   \n",
      "8   RayosX00061_002.png                                           Effusion   \n",
      "9   RayosX00061_019.png                                         No Finding   \n",
      "10  RayosX00061_025.png         Consolidation|Effusion|Infiltration|Nodule   \n",
      "\n",
      "    NumeroConsulta  IdPaciente  EdadPaciente GeneroPaciente  \n",
      "0                5          13            60              M  \n",
      "1               26          13            57              M  \n",
      "2                1          17            77              M  \n",
      "3                1          30            79              M  \n",
      "4                1          32            55              F  \n",
      "5                3          40            68              M  \n",
      "6                2          42            71              M  \n",
      "7                1          57            71              M  \n",
      "8                2          61            77              M  \n",
      "9               19          61            77              M  \n",
      "10              25          61            77              M  \n"
     ]
    }
   ],
   "source": [
    "#archivo kagle https://www.kaggle.com/datasets/ronytorrico/patologas-de-rayos-x\n",
    "ruta_archivo = 'C:\\\\Users\\\\dario\\\\Desktop\\\\ejercicios informatica\\\\pacientesRayoX.csv'\n",
    "j=leer(ruta_archivo,8)\n",
    "def leer_csv_pandas(archivo_csv, columnas=None):\n",
    "    df = archivo_csv\n",
    "    if columnas:\n",
    "        df = df[columnas]\n",
    "    return df\n",
    "\n",
    "dfp = leer_csv_pandas(j, ['imagen', 'patologia', 'NumeroConsulta', 'IdPaciente', 'EdadPaciente', 'GeneroPaciente'])\n",
    "print(dfp.head(11))"
   ]
  }
 ],
 "metadata": {
  "kernelspec": {
   "display_name": "base",
   "language": "python",
   "name": "python3"
  },
  "language_info": {
   "codemirror_mode": {
    "name": "ipython",
    "version": 3
   },
   "file_extension": ".py",
   "mimetype": "text/x-python",
   "name": "python",
   "nbconvert_exporter": "python",
   "pygments_lexer": "ipython3",
   "version": "3.11.5"
  }
 },
 "nbformat": 4,
 "nbformat_minor": 2
}
