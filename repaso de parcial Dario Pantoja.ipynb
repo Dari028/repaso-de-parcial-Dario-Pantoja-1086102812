{
 "cells": [
  {
   "cell_type": "code",
   "execution_count": null,
   "metadata": {},
   "outputs": [],
   "source": [
    "#librerias \n",
    "import numpy as np\n",
    "import pandas as pd\n",
    "import scipy.io\n",
    "import csv\n",
    "import matplotlib.pyplot as plt\n"
   ]
  },
  {
   "cell_type": "markdown",
   "metadata": {},
   "source": [
    "1. Crear una matriz de Numpy aleatoria de 4 dimensiones y un size de 1200000"
   ]
  },
  {
   "cell_type": "code",
   "execution_count": null,
   "metadata": {},
   "outputs": [],
   "source": [
    "arr = np.random.rand(2, 2, 2, 150000) \n",
    "\n",
    "\n",
    "print(\"Shape:\", arr.shape)\n",
    "print(\"Size:\", np.prod(arr.shape))"
   ]
  },
  {
   "cell_type": "markdown",
   "metadata": {},
   "source": [
    "Crea una copia de la matriz creada en el ítem anterior (usar método copy) de solo 3\n",
    "dimensiones (“Cortando una de las dimensiones”)"
   ]
  },
  {
   "cell_type": "code",
   "execution_count": null,
   "metadata": {},
   "outputs": [],
   "source": [
    "arr_copy = np.copy(arr) #cortando la cuerta demencion\n",
    "matriz_3d = arr_copy[:, :, :, 0]\n",
    "print(\"shape :\", matriz_3d.shape)\n",
    "print(\"Size:\", np.prod(matriz_3d.shape))"
   ]
  },
  {
   "cell_type": "markdown",
   "metadata": {},
   "source": [
    "De la matriz 3D, muestra todos los atributos propios de dicha matriz , dimensión, tamaño,\n",
    "etc.."
   ]
  },
  {
   "cell_type": "code",
   "execution_count": null,
   "metadata": {},
   "outputs": [],
   "source": [
    "#punto 3\n",
    "print(\"\\nMatriz reducida de 3 dimensiones:\")\n",
    "print(\"\\nAtributos de la matriz 3D:\")\n",
    "print(\"Shape:\", matriz_3d.shape)\n",
    "print(\"Tamaño:\", np.prod(matriz_3d.shape))\n",
    "print(\"Tipo de dato:\", matriz_3d.dtype)\n",
    "print(\"Tamaño de elemento:\", matriz_3d.itemsize)\n",
    "print(\"Bytes usados:\", matriz_3d.nbytes)"
   ]
  },
  {
   "cell_type": "markdown",
   "metadata": {},
   "source": [
    "Modificar su forma y pasarla a 2D"
   ]
  },
  {
   "cell_type": "code",
   "execution_count": null,
   "metadata": {},
   "outputs": [],
   "source": [
    "arr_2d = matriz_3d.reshape(2, -1)\n",
    "print(\"shape nuevo:\", arr_2d.shape)\n",
    "print(\"size nuevo :\", np.prod(arr_2d.shape))"
   ]
  }
 ],
 "metadata": {
  "language_info": {
   "name": "python"
  }
 },
 "nbformat": 4,
 "nbformat_minor": 2
}
