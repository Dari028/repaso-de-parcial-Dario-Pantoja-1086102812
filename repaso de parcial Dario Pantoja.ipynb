{
 "cells": [
  {
   "cell_type": "code",
   "execution_count": null,
   "metadata": {},
   "outputs": [],
   "source": [
    "#librerias \n",
    "import numpy as np\n",
    "import pandas as pd\n",
    "import scipy.io\n",
    "import csv\n",
    "import matplotlib.pyplot as plt\n"
   ]
  },
  {
   "cell_type": "markdown",
   "metadata": {},
   "source": [
    "1. Crear una matriz de Numpy aleatoria de 4 dimensiones y un size de 1200000"
   ]
  },
  {
   "cell_type": "code",
   "execution_count": null,
   "metadata": {},
   "outputs": [],
   "source": [
    "arr = np.random.rand(2, 2, 2, 150000) \n",
    "\n",
    "\n",
    "print(\"Shape:\", arr.shape)\n",
    "print(\"Size:\", np.prod(arr.shape))"
   ]
  }
 ],
 "metadata": {
  "language_info": {
   "name": "python"
  }
 },
 "nbformat": 4,
 "nbformat_minor": 2
}
